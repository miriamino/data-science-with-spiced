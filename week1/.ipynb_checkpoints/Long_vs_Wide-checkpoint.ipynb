{
 "cells": [
  {
   "cell_type": "code",
   "execution_count": 1,
   "metadata": {},
   "outputs": [],
   "source": [
    "import pandas as pd\n",
    "import seaborn as sns"
   ]
  },
  {
   "cell_type": "code",
   "execution_count": 2,
   "metadata": {},
   "outputs": [],
   "source": [
    "# Read the gapminder_lifeexpectancy.xlsx data\n",
    "df = pd.read_excel('data/gapminder_lifeexpectancy.xlsx')"
   ]
  },
  {
   "cell_type": "code",
   "execution_count": 3,
   "metadata": {},
   "outputs": [
    {
     "data": {
      "text/html": [
       "<div>\n",
       "<style scoped>\n",
       "    .dataframe tbody tr th:only-of-type {\n",
       "        vertical-align: middle;\n",
       "    }\n",
       "\n",
       "    .dataframe tbody tr th {\n",
       "        vertical-align: top;\n",
       "    }\n",
       "\n",
       "    .dataframe thead th {\n",
       "        text-align: right;\n",
       "    }\n",
       "</style>\n",
       "<table border=\"1\" class=\"dataframe\">\n",
       "  <thead>\n",
       "    <tr style=\"text-align: right;\">\n",
       "      <th></th>\n",
       "      <th>Life expectancy</th>\n",
       "      <th>1800</th>\n",
       "      <th>1801</th>\n",
       "      <th>1802</th>\n",
       "      <th>1803</th>\n",
       "      <th>1804</th>\n",
       "      <th>1805</th>\n",
       "      <th>1806</th>\n",
       "      <th>1807</th>\n",
       "      <th>1808</th>\n",
       "      <th>...</th>\n",
       "      <th>2007</th>\n",
       "      <th>2008</th>\n",
       "      <th>2009</th>\n",
       "      <th>2010</th>\n",
       "      <th>2011</th>\n",
       "      <th>2012</th>\n",
       "      <th>2013</th>\n",
       "      <th>2014</th>\n",
       "      <th>2015</th>\n",
       "      <th>2016</th>\n",
       "    </tr>\n",
       "  </thead>\n",
       "  <tbody>\n",
       "    <tr>\n",
       "      <th>0</th>\n",
       "      <td>Abkhazia</td>\n",
       "      <td>NaN</td>\n",
       "      <td>NaN</td>\n",
       "      <td>NaN</td>\n",
       "      <td>NaN</td>\n",
       "      <td>NaN</td>\n",
       "      <td>NaN</td>\n",
       "      <td>NaN</td>\n",
       "      <td>NaN</td>\n",
       "      <td>NaN</td>\n",
       "      <td>...</td>\n",
       "      <td>NaN</td>\n",
       "      <td>NaN</td>\n",
       "      <td>NaN</td>\n",
       "      <td>NaN</td>\n",
       "      <td>NaN</td>\n",
       "      <td>NaN</td>\n",
       "      <td>NaN</td>\n",
       "      <td>NaN</td>\n",
       "      <td>NaN</td>\n",
       "      <td>NaN</td>\n",
       "    </tr>\n",
       "    <tr>\n",
       "      <th>1</th>\n",
       "      <td>Afghanistan</td>\n",
       "      <td>28.21</td>\n",
       "      <td>28.20</td>\n",
       "      <td>28.19</td>\n",
       "      <td>28.18</td>\n",
       "      <td>28.17</td>\n",
       "      <td>28.16</td>\n",
       "      <td>28.15</td>\n",
       "      <td>28.14</td>\n",
       "      <td>28.13</td>\n",
       "      <td>...</td>\n",
       "      <td>52.4</td>\n",
       "      <td>52.8</td>\n",
       "      <td>53.3</td>\n",
       "      <td>53.6</td>\n",
       "      <td>54.0</td>\n",
       "      <td>54.4</td>\n",
       "      <td>54.8</td>\n",
       "      <td>54.9</td>\n",
       "      <td>53.8</td>\n",
       "      <td>52.72</td>\n",
       "    </tr>\n",
       "    <tr>\n",
       "      <th>2</th>\n",
       "      <td>Akrotiri and Dhekelia</td>\n",
       "      <td>NaN</td>\n",
       "      <td>NaN</td>\n",
       "      <td>NaN</td>\n",
       "      <td>NaN</td>\n",
       "      <td>NaN</td>\n",
       "      <td>NaN</td>\n",
       "      <td>NaN</td>\n",
       "      <td>NaN</td>\n",
       "      <td>NaN</td>\n",
       "      <td>...</td>\n",
       "      <td>NaN</td>\n",
       "      <td>NaN</td>\n",
       "      <td>NaN</td>\n",
       "      <td>NaN</td>\n",
       "      <td>NaN</td>\n",
       "      <td>NaN</td>\n",
       "      <td>NaN</td>\n",
       "      <td>NaN</td>\n",
       "      <td>NaN</td>\n",
       "      <td>NaN</td>\n",
       "    </tr>\n",
       "    <tr>\n",
       "      <th>3</th>\n",
       "      <td>Albania</td>\n",
       "      <td>35.40</td>\n",
       "      <td>35.40</td>\n",
       "      <td>35.40</td>\n",
       "      <td>35.40</td>\n",
       "      <td>35.40</td>\n",
       "      <td>35.40</td>\n",
       "      <td>35.40</td>\n",
       "      <td>35.40</td>\n",
       "      <td>35.40</td>\n",
       "      <td>...</td>\n",
       "      <td>76.6</td>\n",
       "      <td>76.8</td>\n",
       "      <td>77.0</td>\n",
       "      <td>77.2</td>\n",
       "      <td>77.4</td>\n",
       "      <td>77.5</td>\n",
       "      <td>77.7</td>\n",
       "      <td>77.9</td>\n",
       "      <td>78.0</td>\n",
       "      <td>78.10</td>\n",
       "    </tr>\n",
       "    <tr>\n",
       "      <th>4</th>\n",
       "      <td>Algeria</td>\n",
       "      <td>28.82</td>\n",
       "      <td>28.82</td>\n",
       "      <td>28.82</td>\n",
       "      <td>28.82</td>\n",
       "      <td>28.82</td>\n",
       "      <td>28.82</td>\n",
       "      <td>28.82</td>\n",
       "      <td>28.82</td>\n",
       "      <td>28.82</td>\n",
       "      <td>...</td>\n",
       "      <td>75.3</td>\n",
       "      <td>75.5</td>\n",
       "      <td>75.7</td>\n",
       "      <td>76.0</td>\n",
       "      <td>76.1</td>\n",
       "      <td>76.2</td>\n",
       "      <td>76.3</td>\n",
       "      <td>76.3</td>\n",
       "      <td>76.4</td>\n",
       "      <td>76.50</td>\n",
       "    </tr>\n",
       "    <tr>\n",
       "      <th>5</th>\n",
       "      <td>American Samoa</td>\n",
       "      <td>NaN</td>\n",
       "      <td>NaN</td>\n",
       "      <td>NaN</td>\n",
       "      <td>NaN</td>\n",
       "      <td>NaN</td>\n",
       "      <td>NaN</td>\n",
       "      <td>NaN</td>\n",
       "      <td>NaN</td>\n",
       "      <td>NaN</td>\n",
       "      <td>...</td>\n",
       "      <td>72.4</td>\n",
       "      <td>72.7</td>\n",
       "      <td>71.3</td>\n",
       "      <td>72.8</td>\n",
       "      <td>72.6</td>\n",
       "      <td>72.6</td>\n",
       "      <td>72.7</td>\n",
       "      <td>72.8</td>\n",
       "      <td>72.9</td>\n",
       "      <td>73.00</td>\n",
       "    </tr>\n",
       "  </tbody>\n",
       "</table>\n",
       "<p>6 rows × 218 columns</p>\n",
       "</div>"
      ],
      "text/plain": [
       "         Life expectancy   1800   1801   1802   1803   1804   1805   1806  \\\n",
       "0               Abkhazia    NaN    NaN    NaN    NaN    NaN    NaN    NaN   \n",
       "1            Afghanistan  28.21  28.20  28.19  28.18  28.17  28.16  28.15   \n",
       "2  Akrotiri and Dhekelia    NaN    NaN    NaN    NaN    NaN    NaN    NaN   \n",
       "3                Albania  35.40  35.40  35.40  35.40  35.40  35.40  35.40   \n",
       "4                Algeria  28.82  28.82  28.82  28.82  28.82  28.82  28.82   \n",
       "5         American Samoa    NaN    NaN    NaN    NaN    NaN    NaN    NaN   \n",
       "\n",
       "    1807   1808  ...  2007  2008  2009  2010  2011  2012  2013  2014  2015  \\\n",
       "0    NaN    NaN  ...   NaN   NaN   NaN   NaN   NaN   NaN   NaN   NaN   NaN   \n",
       "1  28.14  28.13  ...  52.4  52.8  53.3  53.6  54.0  54.4  54.8  54.9  53.8   \n",
       "2    NaN    NaN  ...   NaN   NaN   NaN   NaN   NaN   NaN   NaN   NaN   NaN   \n",
       "3  35.40  35.40  ...  76.6  76.8  77.0  77.2  77.4  77.5  77.7  77.9  78.0   \n",
       "4  28.82  28.82  ...  75.3  75.5  75.7  76.0  76.1  76.2  76.3  76.3  76.4   \n",
       "5    NaN    NaN  ...  72.4  72.7  71.3  72.8  72.6  72.6  72.7  72.8  72.9   \n",
       "\n",
       "    2016  \n",
       "0    NaN  \n",
       "1  52.72  \n",
       "2    NaN  \n",
       "3  78.10  \n",
       "4  76.50  \n",
       "5  73.00  \n",
       "\n",
       "[6 rows x 218 columns]"
      ]
     },
     "execution_count": 3,
     "metadata": {},
     "output_type": "execute_result"
    }
   ],
   "source": [
    "# Inspect the first 6 rows of the DataFrame\n",
    "df.head(6)"
   ]
  },
  {
   "cell_type": "code",
   "execution_count": null,
   "metadata": {},
   "outputs": [],
   "source": [
    "# Drop Null values in place"
   ]
  },
  {
   "cell_type": "code",
   "execution_count": null,
   "metadata": {},
   "outputs": [],
   "source": [
    "# Inspect the shape of the DataFrame"
   ]
  },
  {
   "cell_type": "code",
   "execution_count": null,
   "metadata": {},
   "outputs": [],
   "source": [
    "# Inspect the first 6 rows again"
   ]
  },
  {
   "cell_type": "markdown",
   "metadata": {},
   "source": [
    "### 1. Move columns into the index and out again"
   ]
  },
  {
   "cell_type": "code",
   "execution_count": null,
   "metadata": {},
   "outputs": [],
   "source": []
  },
  {
   "cell_type": "markdown",
   "metadata": {},
   "source": [
    "### 2. Aggregation "
   ]
  },
  {
   "cell_type": "code",
   "execution_count": null,
   "metadata": {},
   "outputs": [],
   "source": [
    "# What are the top ten initials (first letter) of countries in the dataset\n",
    "\n",
    "# Create a new column with the initial of the country\n"
   ]
  },
  {
   "cell_type": "code",
   "execution_count": null,
   "metadata": {
    "scrolled": true
   },
   "outputs": [],
   "source": [
    "# Count the values of the new column"
   ]
  },
  {
   "cell_type": "code",
   "execution_count": null,
   "metadata": {},
   "outputs": [],
   "source": [
    "# Plot the mean lifeexpectancy for each initial for 1900 and 2000\n",
    "\n",
    "# Create the mean of the groups\n"
   ]
  },
  {
   "cell_type": "code",
   "execution_count": null,
   "metadata": {},
   "outputs": [],
   "source": [
    "# Plot the result\n"
   ]
  },
  {
   "cell_type": "code",
   "execution_count": null,
   "metadata": {},
   "outputs": [],
   "source": [
    "# Delete the new column\n"
   ]
  },
  {
   "cell_type": "markdown",
   "metadata": {},
   "source": [
    "### 3. Long vs Wide Format\n",
    "\n",
    "* long format: select single data points, move columns around\n",
    "* wide format: select row/column ranges"
   ]
  },
  {
   "cell_type": "code",
   "execution_count": null,
   "metadata": {},
   "outputs": [],
   "source": [
    "# Bring the DataFrame in wide format (many many rows, 1 column)\n"
   ]
  },
  {
   "cell_type": "code",
   "execution_count": null,
   "metadata": {},
   "outputs": [],
   "source": [
    "# Bring the pd.Series back into wide format (fewer rows, many columns)\n"
   ]
  },
  {
   "cell_type": "code",
   "execution_count": null,
   "metadata": {},
   "outputs": [],
   "source": [
    "# Create a DataFrame with two countries, three years, population and fertility\n"
   ]
  },
  {
   "cell_type": "code",
   "execution_count": null,
   "metadata": {},
   "outputs": [],
   "source": [
    "# Set country and year as index\n"
   ]
  },
  {
   "cell_type": "code",
   "execution_count": null,
   "metadata": {},
   "outputs": [],
   "source": [
    "# Create a bar plot\n"
   ]
  },
  {
   "cell_type": "code",
   "execution_count": null,
   "metadata": {},
   "outputs": [],
   "source": [
    "# Convert the DataFrame into long format\n"
   ]
  },
  {
   "cell_type": "code",
   "execution_count": null,
   "metadata": {},
   "outputs": [],
   "source": [
    "# Create a bar plot with the two countries as columns\n"
   ]
  },
  {
   "cell_type": "code",
   "execution_count": null,
   "metadata": {},
   "outputs": [],
   "source": [
    "# Create a bar plot with the three years as columns\n"
   ]
  },
  {
   "cell_type": "code",
   "execution_count": null,
   "metadata": {},
   "outputs": [],
   "source": [
    "# Create a bar plot only for one country with population and fertility as columns\n"
   ]
  },
  {
   "cell_type": "code",
   "execution_count": null,
   "metadata": {},
   "outputs": [],
   "source": []
  }
 ],
 "metadata": {
  "kernelspec": {
   "display_name": "Python 3",
   "language": "python",
   "name": "python3"
  },
  "language_info": {
   "codemirror_mode": {
    "name": "ipython",
    "version": 3
   },
   "file_extension": ".py",
   "mimetype": "text/x-python",
   "name": "python",
   "nbconvert_exporter": "python",
   "pygments_lexer": "ipython3",
   "version": "3.8.3"
  },
  "varInspector": {
   "cols": {
    "lenName": 16,
    "lenType": 16,
    "lenVar": 40
   },
   "kernels_config": {
    "python": {
     "delete_cmd_postfix": "",
     "delete_cmd_prefix": "del ",
     "library": "var_list.py",
     "varRefreshCmd": "print(var_dic_list())"
    },
    "r": {
     "delete_cmd_postfix": ") ",
     "delete_cmd_prefix": "rm(",
     "library": "var_list.r",
     "varRefreshCmd": "cat(var_dic_list()) "
    }
   },
   "types_to_exclude": [
    "module",
    "function",
    "builtin_function_or_method",
    "instance",
    "_Feature"
   ],
   "window_display": false
  }
 },
 "nbformat": 4,
 "nbformat_minor": 2
}
