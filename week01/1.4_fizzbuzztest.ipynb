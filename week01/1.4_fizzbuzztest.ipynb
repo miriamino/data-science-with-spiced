{
 "cells": [
  {
   "cell_type": "code",
   "execution_count": 1,
   "metadata": {},
   "outputs": [],
   "source": [
    "def fizzbuzz(end_number):\n",
    "    for i in range(1, end_number +1):\n",
    "        if i % 3 == 0 and i % 5 == 0:\n",
    "            print(f\"{i}: FizzBuzz\")\n",
    "        elif i % 3 == 0:\n",
    "            print(f\"{i}: Fizz\")\n",
    "        elif i % 5 == 0:\n",
    "            print(f\"{i}: Buzz\")\n"
   ]
  },
  {
   "cell_type": "code",
   "execution_count": 2,
   "metadata": {},
   "outputs": [
    {
     "name": "stdout",
     "output_type": "stream",
     "text": [
      "3: Fizz\n",
      "5: Buzz\n",
      "6: Fizz\n",
      "9: Fizz\n",
      "10: Buzz\n",
      "12: Fizz\n",
      "15: FizzBuzz\n",
      "18: Fizz\n",
      "20: Buzz\n",
      "21: Fizz\n",
      "24: Fizz\n",
      "25: Buzz\n",
      "27: Fizz\n",
      "30: FizzBuzz\n",
      "33: Fizz\n",
      "35: Buzz\n",
      "36: Fizz\n",
      "39: Fizz\n",
      "40: Buzz\n",
      "42: Fizz\n",
      "45: FizzBuzz\n",
      "48: Fizz\n",
      "50: Buzz\n",
      "51: Fizz\n",
      "54: Fizz\n",
      "55: Buzz\n",
      "57: Fizz\n",
      "60: FizzBuzz\n",
      "63: Fizz\n",
      "65: Buzz\n",
      "66: Fizz\n",
      "69: Fizz\n",
      "70: Buzz\n",
      "72: Fizz\n",
      "75: FizzBuzz\n",
      "78: Fizz\n",
      "80: Buzz\n",
      "81: Fizz\n",
      "84: Fizz\n",
      "85: Buzz\n",
      "87: Fizz\n",
      "90: FizzBuzz\n",
      "93: Fizz\n",
      "95: Buzz\n",
      "96: Fizz\n",
      "99: Fizz\n",
      "100: Buzz\n"
     ]
    }
   ],
   "source": [
    "fizzbuzz(100)"
   ]
  },
  {
   "cell_type": "code",
   "execution_count": null,
   "metadata": {},
   "outputs": [],
   "source": []
  },
  {
   "cell_type": "code",
   "execution_count": null,
   "metadata": {},
   "outputs": [],
   "source": []
  }
 ],
 "metadata": {
  "kernelspec": {
   "display_name": "Python 3",
   "language": "python",
   "name": "python3"
  },
  "language_info": {
   "codemirror_mode": {
    "name": "ipython",
    "version": 3
   },
   "file_extension": ".py",
   "mimetype": "text/x-python",
   "name": "python",
   "nbconvert_exporter": "python",
   "pygments_lexer": "ipython3",
   "version": "3.8.3"
  }
 },
 "nbformat": 4,
 "nbformat_minor": 4
}
