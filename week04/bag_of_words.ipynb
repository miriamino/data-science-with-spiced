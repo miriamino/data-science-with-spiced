{
 "metadata": {
  "language_info": {
   "codemirror_mode": {
    "name": "ipython",
    "version": 3
   },
   "file_extension": ".py",
   "mimetype": "text/x-python",
   "name": "python",
   "nbconvert_exporter": "python",
   "pygments_lexer": "ipython3",
   "version": "3.8.3-final"
  },
  "orig_nbformat": 2,
  "kernelspec": {
   "name": "Python 3.8.3 64-bit ('base': conda)",
   "display_name": "Python 3.8.3 64-bit ('base': conda)",
   "metadata": {
    "interpreter": {
     "hash": "b8b2f146962d33711f3f5f1c5b7b66ad74ee6ce6a85173e53c437ba20198a5c5"
    }
   }
  }
 },
 "nbformat": 4,
 "nbformat_minor": 2,
 "cells": [
  {
   "cell_type": "code",
   "execution_count": 1,
   "metadata": {},
   "outputs": [],
   "source": [
    "import pandas as pd \n",
    "import spacy\n",
    "nlp = spacy.load('en_core_web_md')\n",
    "df = pd.read_csv('lyrics.csv', index_col=0)\n"
   ]
  },
  {
   "cell_type": "code",
   "execution_count": 2,
   "metadata": {},
   "outputs": [],
   "source": [
    "def clean_text(review, model):\n",
    "    new_doc = ''\n",
    "    doc = model(review)\n",
    "    for word in doc:\n",
    "        if not word.is_stop and word.is_alpha:\n",
    "            new_doc = f'{new_doc} {word.lemma_.lower()}'\n",
    "            \n",
    "    return new_doc"
   ]
  },
  {
   "cell_type": "code",
   "execution_count": 3,
   "metadata": {},
   "outputs": [
    {
     "output_type": "execute_result",
     "data": {
      "text/plain": [
       "            title          artist  \\\n",
       "0    Bart Simpson  Princess Nokia   \n",
       "1          Brujas  Princess Nokia   \n",
       "2         Cynthia  Princess Nokia   \n",
       "3            Goat  Princess Nokia   \n",
       "4  Green Eggs Ham  Princess Nokia   \n",
       "\n",
       "                                              lyrics  \n",
       "0   rotten apple core damn fuck get pick gym lay ...  \n",
       "1   supreme supreme supreme ghetto witch speak to...  \n",
       "2   lau beat ayy tony princess nokia big lie fly ...  \n",
       "3   hate burst bubble bitch weird girl runnin shi...  \n",
       "4   green egg ham sam man plan toast jam sunny d ...  "
      ],
      "text/html": "<div>\n<style scoped>\n    .dataframe tbody tr th:only-of-type {\n        vertical-align: middle;\n    }\n\n    .dataframe tbody tr th {\n        vertical-align: top;\n    }\n\n    .dataframe thead th {\n        text-align: right;\n    }\n</style>\n<table border=\"1\" class=\"dataframe\">\n  <thead>\n    <tr style=\"text-align: right;\">\n      <th></th>\n      <th>title</th>\n      <th>artist</th>\n      <th>lyrics</th>\n    </tr>\n  </thead>\n  <tbody>\n    <tr>\n      <th>0</th>\n      <td>Bart Simpson</td>\n      <td>Princess Nokia</td>\n      <td>rotten apple core damn fuck get pick gym lay ...</td>\n    </tr>\n    <tr>\n      <th>1</th>\n      <td>Brujas</td>\n      <td>Princess Nokia</td>\n      <td>supreme supreme supreme ghetto witch speak to...</td>\n    </tr>\n    <tr>\n      <th>2</th>\n      <td>Cynthia</td>\n      <td>Princess Nokia</td>\n      <td>lau beat ayy tony princess nokia big lie fly ...</td>\n    </tr>\n    <tr>\n      <th>3</th>\n      <td>Goat</td>\n      <td>Princess Nokia</td>\n      <td>hate burst bubble bitch weird girl runnin shi...</td>\n    </tr>\n    <tr>\n      <th>4</th>\n      <td>Green Eggs Ham</td>\n      <td>Princess Nokia</td>\n      <td>green egg ham sam man plan toast jam sunny d ...</td>\n    </tr>\n  </tbody>\n</table>\n</div>"
     },
     "metadata": {},
     "execution_count": 3
    }
   ],
   "source": [
    "df['lyrics'] = df['lyrics'].apply(clean_text, model=nlp)\n",
    "df.head()"
   ]
  },
  {
   "cell_type": "code",
   "execution_count": 4,
   "metadata": {},
   "outputs": [
    {
     "output_type": "execute_result",
     "data": {
      "text/plain": [
       "CountVectorizer(stop_words='english')"
      ]
     },
     "metadata": {},
     "execution_count": 4
    }
   ],
   "source": [
    "from sklearn.feature_extraction.text import CountVectorizer\n",
    "vectorizer = CountVectorizer(stop_words='english')\n",
    "vectorizer.fit(df['lyrics'])"
   ]
  },
  {
   "cell_type": "code",
   "execution_count": 5,
   "metadata": {},
   "outputs": [],
   "source": [
    "vectorized_lyrics = vectorizer.transform(df['lyrics'])"
   ]
  },
  {
   "cell_type": "code",
   "execution_count": 6,
   "metadata": {},
   "outputs": [
    {
     "output_type": "execute_result",
     "data": {
      "text/plain": [
       "<1082x10302 sparse matrix of type '<class 'numpy.int64'>'\n",
       "\twith 67435 stored elements in Compressed Sparse Row format>"
      ]
     },
     "metadata": {},
     "execution_count": 6
    }
   ],
   "source": [
    "vectorized_lyrics"
   ]
  },
  {
   "cell_type": "code",
   "execution_count": 9,
   "metadata": {},
   "outputs": [
    {
     "output_type": "execute_result",
     "data": {
      "text/plain": [
       "   aaa  aaaaah  aaaand  aah  aaliyah  aaron  aaw  abacus  abandon  abandonned  \\\n",
       "0    0       0       0    0        1      0    0       0        0           0   \n",
       "1    0       0       0    0        0      0    0       0        0           0   \n",
       "2    0       0       0    0        0      0    0       0        0           0   \n",
       "3    0       0       0    0        0      0    0       0        0           0   \n",
       "4    0       0       0    0        0      0    0       0        0           0   \n",
       "\n",
       "   ...  ξωτικό  ποθώ  σκοπό  του  τρaγούδι  φιλήσω  χaϊδέψω  χείλη  χορό  慴out  \n",
       "0  ...       0     0      0    0         0       0        0      0     0     0  \n",
       "1  ...       0     0      0    0         0       0        0      0     0     0  \n",
       "2  ...       0     0      0    0         0       0        0      0     0     0  \n",
       "3  ...       0     0      0    0         0       0        0      0     0     0  \n",
       "4  ...       0     0      0    0         0       0        0      0     0     0  \n",
       "\n",
       "[5 rows x 10302 columns]"
      ],
      "text/html": "<div>\n<style scoped>\n    .dataframe tbody tr th:only-of-type {\n        vertical-align: middle;\n    }\n\n    .dataframe tbody tr th {\n        vertical-align: top;\n    }\n\n    .dataframe thead th {\n        text-align: right;\n    }\n</style>\n<table border=\"1\" class=\"dataframe\">\n  <thead>\n    <tr style=\"text-align: right;\">\n      <th></th>\n      <th>aaa</th>\n      <th>aaaaah</th>\n      <th>aaaand</th>\n      <th>aah</th>\n      <th>aaliyah</th>\n      <th>aaron</th>\n      <th>aaw</th>\n      <th>abacus</th>\n      <th>abandon</th>\n      <th>abandonned</th>\n      <th>...</th>\n      <th>ξωτικό</th>\n      <th>ποθώ</th>\n      <th>σκοπό</th>\n      <th>του</th>\n      <th>τρaγούδι</th>\n      <th>φιλήσω</th>\n      <th>χaϊδέψω</th>\n      <th>χείλη</th>\n      <th>χορό</th>\n      <th>慴out</th>\n    </tr>\n  </thead>\n  <tbody>\n    <tr>\n      <th>0</th>\n      <td>0</td>\n      <td>0</td>\n      <td>0</td>\n      <td>0</td>\n      <td>1</td>\n      <td>0</td>\n      <td>0</td>\n      <td>0</td>\n      <td>0</td>\n      <td>0</td>\n      <td>...</td>\n      <td>0</td>\n      <td>0</td>\n      <td>0</td>\n      <td>0</td>\n      <td>0</td>\n      <td>0</td>\n      <td>0</td>\n      <td>0</td>\n      <td>0</td>\n      <td>0</td>\n    </tr>\n    <tr>\n      <th>1</th>\n      <td>0</td>\n      <td>0</td>\n      <td>0</td>\n      <td>0</td>\n      <td>0</td>\n      <td>0</td>\n      <td>0</td>\n      <td>0</td>\n      <td>0</td>\n      <td>0</td>\n      <td>...</td>\n      <td>0</td>\n      <td>0</td>\n      <td>0</td>\n      <td>0</td>\n      <td>0</td>\n      <td>0</td>\n      <td>0</td>\n      <td>0</td>\n      <td>0</td>\n      <td>0</td>\n    </tr>\n    <tr>\n      <th>2</th>\n      <td>0</td>\n      <td>0</td>\n      <td>0</td>\n      <td>0</td>\n      <td>0</td>\n      <td>0</td>\n      <td>0</td>\n      <td>0</td>\n      <td>0</td>\n      <td>0</td>\n      <td>...</td>\n      <td>0</td>\n      <td>0</td>\n      <td>0</td>\n      <td>0</td>\n      <td>0</td>\n      <td>0</td>\n      <td>0</td>\n      <td>0</td>\n      <td>0</td>\n      <td>0</td>\n    </tr>\n    <tr>\n      <th>3</th>\n      <td>0</td>\n      <td>0</td>\n      <td>0</td>\n      <td>0</td>\n      <td>0</td>\n      <td>0</td>\n      <td>0</td>\n      <td>0</td>\n      <td>0</td>\n      <td>0</td>\n      <td>...</td>\n      <td>0</td>\n      <td>0</td>\n      <td>0</td>\n      <td>0</td>\n      <td>0</td>\n      <td>0</td>\n      <td>0</td>\n      <td>0</td>\n      <td>0</td>\n      <td>0</td>\n    </tr>\n    <tr>\n      <th>4</th>\n      <td>0</td>\n      <td>0</td>\n      <td>0</td>\n      <td>0</td>\n      <td>0</td>\n      <td>0</td>\n      <td>0</td>\n      <td>0</td>\n      <td>0</td>\n      <td>0</td>\n      <td>...</td>\n      <td>0</td>\n      <td>0</td>\n      <td>0</td>\n      <td>0</td>\n      <td>0</td>\n      <td>0</td>\n      <td>0</td>\n      <td>0</td>\n      <td>0</td>\n      <td>0</td>\n    </tr>\n  </tbody>\n</table>\n<p>5 rows × 10302 columns</p>\n</div>"
     },
     "metadata": {},
     "execution_count": 9
    }
   ],
   "source": [
    "vectorized_lyrics = pd.DataFrame(vectorized_lyrics.todense(), columns=vectorizer.get_feature_names(), index=df.index)\n",
    "vectorized_lyrics.head()"
   ]
  },
  {
   "cell_type": "code",
   "execution_count": 10,
   "metadata": {},
   "outputs": [
    {
     "output_type": "execute_result",
     "data": {
      "text/plain": [
       "      aaa  aaaaah  aaaand  aah  aaliyah  aaron  aaw  abacus  abandon  \\\n",
       "1077    0       0       0    0        0      0    0       0        0   \n",
       "1078    0       0       0    0        0      0    0       0        0   \n",
       "1079    0       0       0    0        0      0    0       0        0   \n",
       "1080    0       0       0    0        0      0    0       0        0   \n",
       "1081    0       0       0    0        0      0    0       0        0   \n",
       "\n",
       "      abandonned  ...  ξωτικό  ποθώ  σκοπό  του  τρaγούδι  φιλήσω  χaϊδέψω  \\\n",
       "1077           0  ...       0     0      0    0         0       0        0   \n",
       "1078           0  ...       0     0      0    0         0       0        0   \n",
       "1079           0  ...       0     0      0    0         0       0        0   \n",
       "1080           0  ...       0     0      0    0         0       0        0   \n",
       "1081           0  ...       0     0      0    0         0       0        0   \n",
       "\n",
       "      χείλη  χορό  慴out  \n",
       "1077      0     0     0  \n",
       "1078      0     0     0  \n",
       "1079      0     0     0  \n",
       "1080      0     0     0  \n",
       "1081      0     0     0  \n",
       "\n",
       "[5 rows x 10302 columns]"
      ],
      "text/html": "<div>\n<style scoped>\n    .dataframe tbody tr th:only-of-type {\n        vertical-align: middle;\n    }\n\n    .dataframe tbody tr th {\n        vertical-align: top;\n    }\n\n    .dataframe thead th {\n        text-align: right;\n    }\n</style>\n<table border=\"1\" class=\"dataframe\">\n  <thead>\n    <tr style=\"text-align: right;\">\n      <th></th>\n      <th>aaa</th>\n      <th>aaaaah</th>\n      <th>aaaand</th>\n      <th>aah</th>\n      <th>aaliyah</th>\n      <th>aaron</th>\n      <th>aaw</th>\n      <th>abacus</th>\n      <th>abandon</th>\n      <th>abandonned</th>\n      <th>...</th>\n      <th>ξωτικό</th>\n      <th>ποθώ</th>\n      <th>σκοπό</th>\n      <th>του</th>\n      <th>τρaγούδι</th>\n      <th>φιλήσω</th>\n      <th>χaϊδέψω</th>\n      <th>χείλη</th>\n      <th>χορό</th>\n      <th>慴out</th>\n    </tr>\n  </thead>\n  <tbody>\n    <tr>\n      <th>1077</th>\n      <td>0</td>\n      <td>0</td>\n      <td>0</td>\n      <td>0</td>\n      <td>0</td>\n      <td>0</td>\n      <td>0</td>\n      <td>0</td>\n      <td>0</td>\n      <td>0</td>\n      <td>...</td>\n      <td>0</td>\n      <td>0</td>\n      <td>0</td>\n      <td>0</td>\n      <td>0</td>\n      <td>0</td>\n      <td>0</td>\n      <td>0</td>\n      <td>0</td>\n      <td>0</td>\n    </tr>\n    <tr>\n      <th>1078</th>\n      <td>0</td>\n      <td>0</td>\n      <td>0</td>\n      <td>0</td>\n      <td>0</td>\n      <td>0</td>\n      <td>0</td>\n      <td>0</td>\n      <td>0</td>\n      <td>0</td>\n      <td>...</td>\n      <td>0</td>\n      <td>0</td>\n      <td>0</td>\n      <td>0</td>\n      <td>0</td>\n      <td>0</td>\n      <td>0</td>\n      <td>0</td>\n      <td>0</td>\n      <td>0</td>\n    </tr>\n    <tr>\n      <th>1079</th>\n      <td>0</td>\n      <td>0</td>\n      <td>0</td>\n      <td>0</td>\n      <td>0</td>\n      <td>0</td>\n      <td>0</td>\n      <td>0</td>\n      <td>0</td>\n      <td>0</td>\n      <td>...</td>\n      <td>0</td>\n      <td>0</td>\n      <td>0</td>\n      <td>0</td>\n      <td>0</td>\n      <td>0</td>\n      <td>0</td>\n      <td>0</td>\n      <td>0</td>\n      <td>0</td>\n    </tr>\n    <tr>\n      <th>1080</th>\n      <td>0</td>\n      <td>0</td>\n      <td>0</td>\n      <td>0</td>\n      <td>0</td>\n      <td>0</td>\n      <td>0</td>\n      <td>0</td>\n      <td>0</td>\n      <td>0</td>\n      <td>...</td>\n      <td>0</td>\n      <td>0</td>\n      <td>0</td>\n      <td>0</td>\n      <td>0</td>\n      <td>0</td>\n      <td>0</td>\n      <td>0</td>\n      <td>0</td>\n      <td>0</td>\n    </tr>\n    <tr>\n      <th>1081</th>\n      <td>0</td>\n      <td>0</td>\n      <td>0</td>\n      <td>0</td>\n      <td>0</td>\n      <td>0</td>\n      <td>0</td>\n      <td>0</td>\n      <td>0</td>\n      <td>0</td>\n      <td>...</td>\n      <td>0</td>\n      <td>0</td>\n      <td>0</td>\n      <td>0</td>\n      <td>0</td>\n      <td>0</td>\n      <td>0</td>\n      <td>0</td>\n      <td>0</td>\n      <td>0</td>\n    </tr>\n  </tbody>\n</table>\n<p>5 rows × 10302 columns</p>\n</div>"
     },
     "metadata": {},
     "execution_count": 10
    }
   ],
   "source": [
    "vectorized_lyrics.tail()\n"
   ]
  },
  {
   "cell_type": "code",
   "execution_count": 11,
   "metadata": {},
   "outputs": [],
   "source": [
    "X = vectorized_lyrics\n",
    "y = df['artist']"
   ]
  },
  {
   "cell_type": "code",
   "execution_count": 12,
   "metadata": {},
   "outputs": [],
   "source": [
    "from sklearn.model_selection import train_test_split\n",
    "\n",
    "X_train, X_test, y_train, y_test = train_test_split(X, y, test_size=0.20, random_state=42)"
   ]
  },
  {
   "cell_type": "code",
   "execution_count": 14,
   "metadata": {},
   "outputs": [
    {
     "output_type": "execute_result",
     "data": {
      "text/plain": [
       "RandomForestClassifier(max_depth=12)"
      ]
     },
     "metadata": {},
     "execution_count": 14
    }
   ],
   "source": [
    "from sklearn.ensemble import RandomForestClassifier\n",
    "\n",
    "n = RandomForestClassifier(max_depth=12, n_estimators=100)\n",
    "n.fit(X_train, y_train)"
   ]
  },
  {
   "cell_type": "code",
   "execution_count": 15,
   "metadata": {},
   "outputs": [
    {
     "output_type": "execute_result",
     "data": {
      "text/plain": [
       "0.88"
      ]
     },
     "metadata": {},
     "execution_count": 15
    }
   ],
   "source": [
    "round(n.score(X_train, y_train), 3)"
   ]
  },
  {
   "cell_type": "code",
   "execution_count": 16,
   "metadata": {},
   "outputs": [
    {
     "output_type": "execute_result",
     "data": {
      "text/plain": [
       "0.816"
      ]
     },
     "metadata": {},
     "execution_count": 16
    }
   ],
   "source": [
    "round(n.score(X_test, y_test), 3)"
   ]
  },
  {
   "cell_type": "code",
   "execution_count": 18,
   "metadata": {},
   "outputs": [],
   "source": []
  },
  {
   "cell_type": "code",
   "execution_count": null,
   "metadata": {},
   "outputs": [],
   "source": []
  }
 ]
}