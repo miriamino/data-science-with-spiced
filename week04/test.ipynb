{
 "metadata": {
  "language_info": {
   "codemirror_mode": {
    "name": "ipython",
    "version": 3
   },
   "file_extension": ".py",
   "mimetype": "text/x-python",
   "name": "python",
   "nbconvert_exporter": "python",
   "pygments_lexer": "ipython3",
   "version": "3.8.3-final"
  },
  "orig_nbformat": 2,
  "kernelspec": {
   "name": "Python 3.8.3 64-bit ('base': conda)",
   "display_name": "Python 3.8.3 64-bit ('base': conda)",
   "metadata": {
    "interpreter": {
     "hash": "b8b2f146962d33711f3f5f1c5b7b66ad74ee6ce6a85173e53c437ba20198a5c5"
    }
   }
  }
 },
 "nbformat": 4,
 "nbformat_minor": 2,
 "cells": [
  {
   "cell_type": "code",
   "execution_count": 9,
   "metadata": {},
   "outputs": [
    {
     "output_type": "stream",
     "name": "stdout",
     "text": [
      "            title          artist  \\\n0    Bart Simpson  Princess Nokia   \n1          Brujas  Princess Nokia   \n2         Cynthia  Princess Nokia   \n3            Goat  Princess Nokia   \n4  Green Eggs Ham  Princess Nokia   \n\n                                              lyrics  \n0  Rotten apple to the core\\nDamn, I been a fuck ...  \n1  I'm your supreme\\nI'm your supreme (I'm your s...  \n2  A Lau on the beat\\nAyy Tony\\nPrincess Nokia\\nW...  \n3  Hate to burst your bubble, bitch\\nI'm that wei...  \n4  Green eggs and ham\\nSam I am\\nI'm the man\\nWit...  \ntitle     1082\nartist    1082\nlyrics    1082\ndtype: int64\n['Princess Nokia' 'Marina' 'Nicki Minaj' 'Lizzo' 'Marina And The Diamonds'\n 'Dolly Parton' 'Cardi B' 'Megan Thee Stallion']\n"
     ]
    }
   ],
   "source": [
    "import pandas as pd\n",
    "df = pd.read_csv('lyrics.csv', index_col=0)\n",
    "print(df.head())\n",
    "print(df.count())\n",
    "print(df['artist'].unique())"
   ]
  }
 ]
}